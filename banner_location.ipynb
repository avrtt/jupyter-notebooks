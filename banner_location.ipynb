{
 "cells": [
  {
   "cell_type": "markdown",
   "metadata": {},
   "source": [
    "## Task: Choose 20 optimal locations around the world for placing advertising banners near the company's offices."
   ]
  },
  {
   "cell_type": "code",
   "execution_count": 1,
   "metadata": {},
   "outputs": [],
   "source": [
    "import pandas as pd\n",
    "from sklearn.cluster import MeanShift\n",
    "import numpy as np"
   ]
  },
  {
   "cell_type": "markdown",
   "metadata": {},
   "source": [
    "Data: [Foursquare Dataset](https://archive.org/details/201309_foursquare_dataset_umn)"
   ]
  },
  {
   "cell_type": "code",
   "execution_count": 2,
   "metadata": {},
   "outputs": [
    {
     "name": "stdout",
     "output_type": "stream",
     "text": [
      "<class 'pandas.core.frame.DataFrame'>\n",
      "RangeIndex: 1021967 entries, 0 to 1021966\n",
      "Data columns (total 6 columns):\n",
      " #   Column            Non-Null Count    Dtype  \n",
      "---  ------            --------------    -----  \n",
      " 0   id                1021967 non-null  object \n",
      " 1   user_id           1021966 non-null  float64\n",
      " 2   venue_id          1021966 non-null  float64\n",
      " 3   latitude          396634 non-null   float64\n",
      " 4   longitude         396634 non-null   float64\n",
      " 5   created_at        1021966 non-null  object \n",
      "dtypes: float64(4), object(2)\n",
      "memory usage: 46.8+ MB\n",
      "None\n"
     ]
    }
   ],
   "source": [
    "# reading the dataset\n",
    "\n",
    "checkins0 = pd.read_csv('checkins.dat', sep='|', skipinitialspace=True, low_memory=False, skiprows=[1])\n",
    "print(checkins0.info())"
   ]
  },
  {
   "cell_type": "code",
   "execution_count": 3,
   "metadata": {},
   "outputs": [
    {
     "data": {
      "text/html": [
       "<div>\n",
       "<style scoped>\n",
       "    .dataframe tbody tr th:only-of-type {\n",
       "        vertical-align: middle;\n",
       "    }\n",
       "\n",
       "    .dataframe tbody tr th {\n",
       "        vertical-align: top;\n",
       "    }\n",
       "\n",
       "    .dataframe thead th {\n",
       "        text-align: right;\n",
       "    }\n",
       "</style>\n",
       "<table border=\"1\" class=\"dataframe\">\n",
       "  <thead>\n",
       "    <tr style=\"text-align: right;\">\n",
       "      <th></th>\n",
       "      <th>id</th>\n",
       "      <th>user_id</th>\n",
       "      <th>venue_id</th>\n",
       "      <th>latitude</th>\n",
       "      <th>longitude</th>\n",
       "      <th>created_at</th>\n",
       "    </tr>\n",
       "  </thead>\n",
       "  <tbody>\n",
       "    <tr>\n",
       "      <th>0</th>\n",
       "      <td>984301</td>\n",
       "      <td>2041916.0</td>\n",
       "      <td>5222.0</td>\n",
       "      <td>NaN</td>\n",
       "      <td>NaN</td>\n",
       "      <td>2012-04-21 17:39:01</td>\n",
       "    </tr>\n",
       "    <tr>\n",
       "      <th>1</th>\n",
       "      <td>984222</td>\n",
       "      <td>15824.0</td>\n",
       "      <td>5222.0</td>\n",
       "      <td>38.895112</td>\n",
       "      <td>-77.036366</td>\n",
       "      <td>2012-04-21 17:43:47</td>\n",
       "    </tr>\n",
       "    <tr>\n",
       "      <th>2</th>\n",
       "      <td>984315</td>\n",
       "      <td>1764391.0</td>\n",
       "      <td>5222.0</td>\n",
       "      <td>NaN</td>\n",
       "      <td>NaN</td>\n",
       "      <td>2012-04-21 17:37:18</td>\n",
       "    </tr>\n",
       "    <tr>\n",
       "      <th>3</th>\n",
       "      <td>984234</td>\n",
       "      <td>44652.0</td>\n",
       "      <td>5222.0</td>\n",
       "      <td>33.800745</td>\n",
       "      <td>-84.410520</td>\n",
       "      <td>2012-04-21 17:43:43</td>\n",
       "    </tr>\n",
       "    <tr>\n",
       "      <th>4</th>\n",
       "      <td>984249</td>\n",
       "      <td>2146840.0</td>\n",
       "      <td>5222.0</td>\n",
       "      <td>NaN</td>\n",
       "      <td>NaN</td>\n",
       "      <td>2012-04-21 17:42:58</td>\n",
       "    </tr>\n",
       "    <tr>\n",
       "      <th>5</th>\n",
       "      <td>984268</td>\n",
       "      <td>2146843.0</td>\n",
       "      <td>5222.0</td>\n",
       "      <td>NaN</td>\n",
       "      <td>NaN</td>\n",
       "      <td>2012-04-21 17:42:38</td>\n",
       "    </tr>\n",
       "    <tr>\n",
       "      <th>6</th>\n",
       "      <td>984281</td>\n",
       "      <td>2146846.0</td>\n",
       "      <td>5222.0</td>\n",
       "      <td>NaN</td>\n",
       "      <td>NaN</td>\n",
       "      <td>2012-04-21 17:39:40</td>\n",
       "    </tr>\n",
       "    <tr>\n",
       "      <th>7</th>\n",
       "      <td>984291</td>\n",
       "      <td>105054.0</td>\n",
       "      <td>5222.0</td>\n",
       "      <td>45.523452</td>\n",
       "      <td>-122.676207</td>\n",
       "      <td>2012-04-21 17:39:22</td>\n",
       "    </tr>\n",
       "    <tr>\n",
       "      <th>8</th>\n",
       "      <td>6651</td>\n",
       "      <td>1338710.0</td>\n",
       "      <td>219703.0</td>\n",
       "      <td>NaN</td>\n",
       "      <td>NaN</td>\n",
       "      <td>2011-12-08 23:11:23</td>\n",
       "    </tr>\n",
       "    <tr>\n",
       "      <th>9</th>\n",
       "      <td>984318</td>\n",
       "      <td>2146539.0</td>\n",
       "      <td>5222.0</td>\n",
       "      <td>40.764462</td>\n",
       "      <td>-111.904565</td>\n",
       "      <td>2012-04-21 17:35:46</td>\n",
       "    </tr>\n",
       "  </tbody>\n",
       "</table>\n",
       "</div>"
      ],
      "text/plain": [
       "    id       user_id   venue_id   latitude        longitude       \\\n",
       "0  984301   2041916.0     5222.0             NaN             NaN   \n",
       "1  984222     15824.0     5222.0       38.895112      -77.036366   \n",
       "2  984315   1764391.0     5222.0             NaN             NaN   \n",
       "3  984234     44652.0     5222.0       33.800745      -84.410520   \n",
       "4  984249   2146840.0     5222.0             NaN             NaN   \n",
       "5  984268   2146843.0     5222.0             NaN             NaN   \n",
       "6  984281   2146846.0     5222.0             NaN             NaN   \n",
       "7  984291    105054.0     5222.0       45.523452     -122.676207   \n",
       "8    6651   1338710.0   219703.0             NaN             NaN   \n",
       "9  984318   2146539.0     5222.0       40.764462     -111.904565   \n",
       "\n",
       "      created_at        \n",
       "0  2012-04-21 17:39:01  \n",
       "1  2012-04-21 17:43:47  \n",
       "2  2012-04-21 17:37:18  \n",
       "3  2012-04-21 17:43:43  \n",
       "4  2012-04-21 17:42:58  \n",
       "5  2012-04-21 17:42:38  \n",
       "6  2012-04-21 17:39:40  \n",
       "7  2012-04-21 17:39:22  \n",
       "8  2011-12-08 23:11:23  \n",
       "9  2012-04-21 17:35:46  "
      ]
     },
     "execution_count": 3,
     "metadata": {},
     "output_type": "execute_result"
    }
   ],
   "source": [
    "checkins0.head(10)"
   ]
  },
  {
   "cell_type": "code",
   "execution_count": 4,
   "metadata": {},
   "outputs": [
    {
     "name": "stdout",
     "output_type": "stream",
     "text": [
      "Number of rows: 1021967\n"
     ]
    }
   ],
   "source": [
    "print('Number of rows:', checkins0.shape[0])"
   ]
  },
  {
   "cell_type": "code",
   "execution_count": 5,
   "metadata": {},
   "outputs": [
    {
     "data": {
      "text/html": [
       "<div>\n",
       "<style scoped>\n",
       "    .dataframe tbody tr th:only-of-type {\n",
       "        vertical-align: middle;\n",
       "    }\n",
       "\n",
       "    .dataframe tbody tr th {\n",
       "        vertical-align: top;\n",
       "    }\n",
       "\n",
       "    .dataframe thead th {\n",
       "        text-align: right;\n",
       "    }\n",
       "</style>\n",
       "<table border=\"1\" class=\"dataframe\">\n",
       "  <thead>\n",
       "    <tr style=\"text-align: right;\">\n",
       "      <th></th>\n",
       "      <th>id</th>\n",
       "      <th>user_id</th>\n",
       "      <th>venue_id</th>\n",
       "      <th>latitude</th>\n",
       "      <th>longitude</th>\n",
       "      <th>created_at</th>\n",
       "    </tr>\n",
       "  </thead>\n",
       "  <tbody>\n",
       "    <tr>\n",
       "      <th>1</th>\n",
       "      <td>984222</td>\n",
       "      <td>15824.0</td>\n",
       "      <td>5222.0</td>\n",
       "      <td>38.895112</td>\n",
       "      <td>-77.036366</td>\n",
       "      <td>2012-04-21 17:43:47</td>\n",
       "    </tr>\n",
       "    <tr>\n",
       "      <th>3</th>\n",
       "      <td>984234</td>\n",
       "      <td>44652.0</td>\n",
       "      <td>5222.0</td>\n",
       "      <td>33.800745</td>\n",
       "      <td>-84.410520</td>\n",
       "      <td>2012-04-21 17:43:43</td>\n",
       "    </tr>\n",
       "    <tr>\n",
       "      <th>7</th>\n",
       "      <td>984291</td>\n",
       "      <td>105054.0</td>\n",
       "      <td>5222.0</td>\n",
       "      <td>45.523452</td>\n",
       "      <td>-122.676207</td>\n",
       "      <td>2012-04-21 17:39:22</td>\n",
       "    </tr>\n",
       "    <tr>\n",
       "      <th>9</th>\n",
       "      <td>984318</td>\n",
       "      <td>2146539.0</td>\n",
       "      <td>5222.0</td>\n",
       "      <td>40.764462</td>\n",
       "      <td>-111.904565</td>\n",
       "      <td>2012-04-21 17:35:46</td>\n",
       "    </tr>\n",
       "    <tr>\n",
       "      <th>10</th>\n",
       "      <td>984232</td>\n",
       "      <td>93870.0</td>\n",
       "      <td>380645.0</td>\n",
       "      <td>33.448377</td>\n",
       "      <td>-112.074037</td>\n",
       "      <td>2012-04-21 17:38:18</td>\n",
       "    </tr>\n",
       "    <tr>\n",
       "      <th>11</th>\n",
       "      <td>984483</td>\n",
       "      <td>1030290.0</td>\n",
       "      <td>955969.0</td>\n",
       "      <td>32.221743</td>\n",
       "      <td>-110.926479</td>\n",
       "      <td>2012-04-21 17:58:54</td>\n",
       "    </tr>\n",
       "    <tr>\n",
       "      <th>12</th>\n",
       "      <td>984685</td>\n",
       "      <td>304253.0</td>\n",
       "      <td>23558.0</td>\n",
       "      <td>40.650000</td>\n",
       "      <td>-73.950000</td>\n",
       "      <td>2012-04-21 18:19:34</td>\n",
       "    </tr>\n",
       "    <tr>\n",
       "      <th>13</th>\n",
       "      <td>984470</td>\n",
       "      <td>720850.0</td>\n",
       "      <td>749715.0</td>\n",
       "      <td>33.448377</td>\n",
       "      <td>-112.074037</td>\n",
       "      <td>2012-04-21 17:02:47</td>\n",
       "    </tr>\n",
       "    <tr>\n",
       "      <th>15</th>\n",
       "      <td>984610</td>\n",
       "      <td>1639666.0</td>\n",
       "      <td>442605.0</td>\n",
       "      <td>33.414768</td>\n",
       "      <td>-111.909309</td>\n",
       "      <td>2012-04-21 18:04:58</td>\n",
       "    </tr>\n",
       "    <tr>\n",
       "      <th>18</th>\n",
       "      <td>984653</td>\n",
       "      <td>1647192.0</td>\n",
       "      <td>23558.0</td>\n",
       "      <td>42.358431</td>\n",
       "      <td>-71.059773</td>\n",
       "      <td>2012-04-21 18:23:22</td>\n",
       "    </tr>\n",
       "  </tbody>\n",
       "</table>\n",
       "</div>"
      ],
      "text/plain": [
       "     id       user_id   venue_id   latitude        longitude       \\\n",
       "1   984222     15824.0     5222.0       38.895112      -77.036366   \n",
       "3   984234     44652.0     5222.0       33.800745      -84.410520   \n",
       "7   984291    105054.0     5222.0       45.523452     -122.676207   \n",
       "9   984318   2146539.0     5222.0       40.764462     -111.904565   \n",
       "10  984232     93870.0   380645.0       33.448377     -112.074037   \n",
       "11  984483   1030290.0   955969.0       32.221743     -110.926479   \n",
       "12  984685    304253.0    23558.0       40.650000      -73.950000   \n",
       "13  984470    720850.0   749715.0       33.448377     -112.074037   \n",
       "15  984610   1639666.0   442605.0       33.414768     -111.909309   \n",
       "18  984653   1647192.0    23558.0       42.358431      -71.059773   \n",
       "\n",
       "       created_at        \n",
       "1   2012-04-21 17:43:47  \n",
       "3   2012-04-21 17:43:43  \n",
       "7   2012-04-21 17:39:22  \n",
       "9   2012-04-21 17:35:46  \n",
       "10  2012-04-21 17:38:18  \n",
       "11  2012-04-21 17:58:54  \n",
       "12  2012-04-21 18:19:34  \n",
       "13  2012-04-21 17:02:47  \n",
       "15  2012-04-21 18:04:58  \n",
       "18  2012-04-21 18:23:22  "
      ]
     },
     "execution_count": 5,
     "metadata": {},
     "output_type": "execute_result"
    }
   ],
   "source": [
    "# deleting rows with NaN values\n",
    "\n",
    "checkins = checkins0.dropna()\n",
    "checkins.head(10)"
   ]
  },
  {
   "cell_type": "code",
   "execution_count": 6,
   "metadata": {},
   "outputs": [
    {
     "name": "stdout",
     "output_type": "stream",
     "text": [
      "Number of rows: 396634\n"
     ]
    }
   ],
   "source": [
    "# deleting whitespaces\n",
    "\n",
    "checkins.columns = checkins.columns.str.strip()\n",
    "\n",
    "\n",
    "print('Number of rows:', checkins.shape[0])"
   ]
  },
  {
   "cell_type": "markdown",
   "metadata": {},
   "source": [
    "#### Finding tourist congestion centers using coordinates (clustering problem)"
   ]
  },
  {
   "cell_type": "code",
   "execution_count": 7,
   "metadata": {},
   "outputs": [
    {
     "name": "stdout",
     "output_type": "stream",
     "text": [
      "          latitude   longitude\n",
      "1        38.895112  -77.036366\n",
      "3        33.800745  -84.410520\n",
      "7        45.523452 -122.676207\n",
      "9        40.764462 -111.904565\n",
      "10       33.448377 -112.074037\n",
      "...            ...         ...\n",
      "1021959  40.850100  -73.866246\n",
      "1021960  33.748995  -84.387982\n",
      "1021961  42.765366  -71.467566\n",
      "1021962  42.439479  -83.743830\n",
      "1021964  42.331427  -83.045754\n",
      "\n",
      "[396634 rows x 2 columns]\n"
     ]
    }
   ],
   "source": [
    "data = checkins[['latitude', 'longitude']] # getting coordinates\n",
    "\n",
    "print(data)"
   ]
  },
  {
   "cell_type": "code",
   "execution_count": 8,
   "metadata": {},
   "outputs": [
    {
     "name": "stdout",
     "output_type": "stream",
     "text": [
      "         latitude   longitude\n",
      "1       38.895112  -77.036366\n",
      "3       33.800745  -84.410520\n",
      "7       45.523452 -122.676207\n",
      "9       40.764462 -111.904565\n",
      "10      33.448377 -112.074037\n",
      "...           ...         ...\n",
      "233788  33.575000 -117.725556\n",
      "233789  37.629349 -122.400087\n",
      "233793  29.762884  -95.383061\n",
      "233797  32.802955  -96.769923\n",
      "233798  37.774929 -122.419415\n",
      "\n",
      "[100000 rows x 2 columns]\n"
     ]
    }
   ],
   "source": [
    "# creating a subset for clustering\n",
    "\n",
    "data_sample = data[:100000]\n",
    "print(data_sample)"
   ]
  },
  {
   "cell_type": "code",
   "execution_count": 9,
   "metadata": {},
   "outputs": [
    {
     "name": "stdout",
     "output_type": "stream",
     "text": [
      "CPU times: user 6min 37s, sys: 864 ms, total: 6min 37s\n",
      "Wall time: 6min 39s\n"
     ]
    },
    {
     "data": {
      "text/plain": [
       "MeanShift(bandwidth=0.1, bin_seeding=False, cluster_all=True, max_iter=300,\n",
       "          min_bin_freq=1, n_jobs=None, seeds=None)"
      ]
     },
     "execution_count": 9,
     "metadata": {},
     "output_type": "execute_result"
    }
   ],
   "source": [
    "%%time\n",
    "\n",
    "# clustering using MeanShift algorithm\n",
    "\n",
    "ms = MeanShift(bandwidth = 0.1)\n",
    "ms.fit(data_sample)"
   ]
  },
  {
   "cell_type": "code",
   "execution_count": 10,
   "metadata": {},
   "outputs": [
    {
     "name": "stdout",
     "output_type": "stream",
     "text": [
      "[[  40.7177164   -73.99183542]\n",
      " [  33.44943805 -112.00213969]\n",
      " [  33.44638027 -111.90188756]\n",
      " ...\n",
      " [ -37.8229826   145.1811902 ]\n",
      " [ -41.2924945   174.7732353 ]\n",
      " [ -45.0311622   168.6626435 ]]\n"
     ]
    }
   ],
   "source": [
    "cluster_centers = ms.cluster_centers_\n",
    "\n",
    "print(cluster_centers)"
   ]
  },
  {
   "cell_type": "code",
   "execution_count": 11,
   "metadata": {},
   "outputs": [
    {
     "name": "stdout",
     "output_type": "stream",
     "text": [
      "3231\n"
     ]
    }
   ],
   "source": [
    "# number of clusters\n",
    "print(len(cluster_centers))"
   ]
  },
  {
   "cell_type": "code",
   "execution_count": 63,
   "metadata": {},
   "outputs": [
    {
     "name": "stdout",
     "output_type": "stream",
     "text": [
      "[   0    1    2 ... 3228 3229 3230]\n",
      "[12506  4692  3994 ...     1     1     1]\n",
      "\n",
      "Cluster 0: 12506 items\n",
      "Cluster 1: 4692 items\n",
      "Cluster 2: 3994 items\n",
      "Cluster 3: 3363 items\n",
      "Cluster 4: 3526 items\n",
      "Cluster 5: 2409 items\n",
      "Cluster 6: 2297 items\n",
      "Cluster 7: 1601 items\n",
      "Cluster 8: 1526 items\n",
      "Cluster 9: 1378 items\n"
     ]
    }
   ],
   "source": [
    "# sorting clusters by items\n",
    "\n",
    "labels_unique, counts = np.unique(ms.labels_, return_counts=True)\n",
    "\n",
    "print(labels_unique)\n",
    "print(counts)\n",
    "print()\n",
    "\n",
    "for i in range(10):\n",
    "    print('Cluster ', labels_unique[i], ': ', counts[i], ' items', sep='')"
   ]
  },
  {
   "cell_type": "markdown",
   "metadata": {},
   "source": [
    "etc."
   ]
  },
  {
   "cell_type": "code",
   "execution_count": 64,
   "metadata": {},
   "outputs": [
    {
     "name": "stdout",
     "output_type": "stream",
     "text": [
      "Number of useful clasters: 592\n",
      "\n",
      "[0, 1, 2, 3, 4, 5, 6, 7, 8, 9, 10, 11, 12, 13, 14, 15, 16, 17, 18, 19, 20, 21, 22, 23, 24, 25, 26, 27, 28, 29, 30, 31, 32, 33, 34, 35, 36, 37, 38, 39, 40, 41, 42, 43, 44, 45, 46, 47, 48, 49, 50, 51, 52, 53, 54, 55, 56, 57, 58, 59, 60, 61, 62, 63, 64, 65, 66, 67, 68, 69, 70, 71, 72, 73, 74, 75, 76, 77, 78, 79, 80, 81, 82, 83, 84, 85, 86, 87, 88, 89, 90, 91, 92, 93, 94, 95, 96, 97, 98, 99, 100, 101, 102, 103, 104, 105, 106, 107, 108, 109, 110, 111, 112, 113, 114, 115, 116, 117, 118, 119, 120, 121, 122, 123, 124, 125, 126, 127, 128, 129, 130, 131, 132, 133, 134, 135, 136, 137, 138, 139, 140, 141, 142, 143, 144, 145, 146, 147, 148, 149, 150, 151, 152, 153, 154, 155, 156, 157, 158, 159, 160, 161, 162, 163, 164, 165, 166, 167, 168, 169, 170, 171, 172, 173, 174, 175, 176, 177, 178, 179, 180, 181, 182, 183, 184, 185, 186, 187, 188, 189, 190, 191, 192, 193, 194, 195, 196, 197, 198, 199, 200, 201, 202, 203, 204, 205, 206, 207, 208, 209, 210, 211, 212, 213, 214, 215, 216, 217, 218, 219, 220, 221, 222, 223, 224, 225, 226, 227, 228, 229, 230, 231, 232, 233, 234, 235, 236, 237, 238, 239, 240, 241, 242, 243, 244, 245, 246, 247, 248, 249, 250, 251, 252, 253, 254, 255, 256, 257, 258, 259, 260, 261, 262, 263, 264, 265, 266, 267, 268, 269, 270, 271, 272, 273, 274, 275, 276, 277, 278, 279, 280, 281, 282, 283, 284, 285, 286, 287, 288, 289, 290, 291, 292, 293, 294, 295, 296, 297, 298, 299, 300, 301, 302, 303, 304, 305, 306, 307, 308, 309, 310, 311, 312, 313, 314, 315, 316, 317, 318, 319, 320, 321, 322, 323, 324, 325, 326, 327, 328, 329, 330, 331, 332, 333, 334, 335, 337, 338, 339, 340, 341, 342, 343, 344, 345, 346, 347, 348, 349, 350, 351, 352, 353, 354, 355, 356, 357, 358, 359, 360, 361, 362, 363, 364, 365, 366, 367, 368, 369, 370, 371, 372, 373, 374, 375, 376, 377, 378, 379, 380, 381, 382, 383, 384, 385, 387, 388, 389, 390, 392, 393, 394, 395, 396, 397, 398, 399, 400, 401, 402, 403, 404, 405, 406, 407, 408, 409, 410, 411, 412, 413, 414, 415, 416, 417, 418, 419, 420, 421, 422, 423, 424, 425, 426, 427, 428, 429, 430, 431, 432, 433, 434, 435, 436, 437, 438, 439, 440, 441, 442, 443, 444, 445, 446, 447, 448, 449, 450, 451, 452, 453, 454, 455, 456, 457, 458, 459, 460, 461, 462, 463, 464, 465, 466, 467, 468, 469, 470, 471, 472, 473, 474, 475, 476, 477, 478, 480, 481, 482, 483, 484, 485, 486, 487, 488, 489, 490, 491, 492, 493, 494, 495, 496, 497, 498, 499, 500, 501, 502, 503, 504, 505, 506, 507, 508, 509, 510, 511, 512, 513, 514, 515, 517, 518, 519, 520, 521, 522, 523, 524, 525, 526, 527, 528, 529, 530, 531, 532, 533, 534, 535, 536, 537, 538, 539, 540, 541, 542, 544, 545, 546, 547, 549, 550, 551, 552, 553, 554, 555, 556, 557, 558, 559, 560, 561, 562, 564, 565, 566, 567, 568, 569, 571, 572, 573, 575, 576, 577, 578, 579, 581, 582, 583, 584, 585, 588, 589, 590, 591, 592, 593, 594, 595, 615, 636, 657, 672, 684, 727, 884, 1343, 1350]\n"
     ]
    }
   ],
   "source": [
    "# removing useless clusters\n",
    "\n",
    "labels_unique_morethan = []\n",
    "\n",
    "for i, items in enumerate(counts):\n",
    "    if items > 15:\n",
    "        labels_unique_morethan.append(labels_unique[i])\n",
    "\n",
    "print('Number of useful clasters:', len(labels_unique_morethan))\n",
    "print()\n",
    "print(labels_unique_morethan)"
   ]
  },
  {
   "cell_type": "code",
   "execution_count": 67,
   "metadata": {},
   "outputs": [
    {
     "name": "stdout",
     "output_type": "stream",
     "text": [
      "[[  40.7177164   -73.99183542]\n",
      " [  33.44943805 -112.00213969]\n",
      " [  33.44638027 -111.90188756]\n",
      " ...\n",
      " [  41.61853175  -88.44556818]\n",
      " [  39.2494686   -77.1821271 ]\n",
      " [  38.65877915  -76.8856871 ]]\n"
     ]
    }
   ],
   "source": [
    "centers_useful = np.empty((len(labels_unique_morethan), 2))\n",
    "\n",
    "for i, labels in enumerate(labels_unique_morethan):\n",
    "    centers_useful[i] = cluster_centers[labels]\n",
    "\n",
    "print(centers_useful)"
   ]
  },
  {
   "cell_type": "markdown",
   "metadata": {},
   "source": [
    "#### Coordinates of offices:\n",
    "\n",
    "\n",
    "33.751277, -118.188740 (Los Angeles)\n",
    "\n",
    "25.867736, -80.324116 (Miami)\n",
    "\n",
    "51.503016, -0.075479 (London)\n",
    "\n",
    "52.378894, 4.885084 (Amsterdam)\n",
    "\n",
    "39.366487, 117.036146 (Beijing)\n",
    "\n",
    "-33.868457, 151.205134 (Sydney)"
   ]
  },
  {
   "cell_type": "markdown",
   "metadata": {},
   "source": [
    "![offices_on_map.png](https://raw.githubusercontent.com/Lenferdetroud/ipython-notebooks/master/banner%20location/offices_on_map.png)"
   ]
  },
  {
   "cell_type": "markdown",
   "metadata": {},
   "source": [
    "#### Search for the 20 nearest cluster centers (calculating the distance to the nearest office for each point)"
   ]
  },
  {
   "cell_type": "code",
   "execution_count": 68,
   "metadata": {},
   "outputs": [
    {
     "data": {
      "text/html": [
       "<div>\n",
       "<style scoped>\n",
       "    .dataframe tbody tr th:only-of-type {\n",
       "        vertical-align: middle;\n",
       "    }\n",
       "\n",
       "    .dataframe tbody tr th {\n",
       "        vertical-align: top;\n",
       "    }\n",
       "\n",
       "    .dataframe thead th {\n",
       "        text-align: right;\n",
       "    }\n",
       "</style>\n",
       "<table border=\"1\" class=\"dataframe\">\n",
       "  <thead>\n",
       "    <tr style=\"text-align: right;\">\n",
       "      <th></th>\n",
       "      <th>latitude</th>\n",
       "      <th>longitude</th>\n",
       "    </tr>\n",
       "  </thead>\n",
       "  <tbody>\n",
       "    <tr>\n",
       "      <th>0</th>\n",
       "      <td>33.751277</td>\n",
       "      <td>-118.188740</td>\n",
       "    </tr>\n",
       "    <tr>\n",
       "      <th>1</th>\n",
       "      <td>25.867736</td>\n",
       "      <td>-80.324116</td>\n",
       "    </tr>\n",
       "    <tr>\n",
       "      <th>2</th>\n",
       "      <td>51.503016</td>\n",
       "      <td>-0.075479</td>\n",
       "    </tr>\n",
       "    <tr>\n",
       "      <th>3</th>\n",
       "      <td>52.378894</td>\n",
       "      <td>4.885084</td>\n",
       "    </tr>\n",
       "    <tr>\n",
       "      <th>4</th>\n",
       "      <td>39.366487</td>\n",
       "      <td>117.036146</td>\n",
       "    </tr>\n",
       "    <tr>\n",
       "      <th>5</th>\n",
       "      <td>-33.868457</td>\n",
       "      <td>151.205134</td>\n",
       "    </tr>\n",
       "  </tbody>\n",
       "</table>\n",
       "</div>"
      ],
      "text/plain": [
       "    latitude   longitude\n",
       "0  33.751277 -118.188740\n",
       "1  25.867736  -80.324116\n",
       "2  51.503016   -0.075479\n",
       "3  52.378894    4.885084\n",
       "4  39.366487  117.036146\n",
       "5 -33.868457  151.205134"
      ]
     },
     "execution_count": 68,
     "metadata": {},
     "output_type": "execute_result"
    }
   ],
   "source": [
    "# reading the coordinates\n",
    "\n",
    "offices = pd.read_csv('offices_coordinates.txt', skipinitialspace=True)\n",
    "office_coordinates = offices.loc[:, ['latitude', 'longitude']]\n",
    "\n",
    "office_coordinates"
   ]
  },
  {
   "cell_type": "code",
   "execution_count": 75,
   "metadata": {},
   "outputs": [
    {
     "name": "stdout",
     "output_type": "stream",
     "text": [
      "Minimal distance: 0.007834758163109155\n",
      "The closest center: [-33.86063043 151.20477593]\n"
     ]
    }
   ],
   "source": [
    "def distance(x, y):\n",
    "    return np.sqrt(np.sum((x - y)**2))\n",
    "\n",
    "\n",
    "# calculating distances\n",
    "\n",
    "nearest_office_d = np.empty(centers_useful.shape[0])\n",
    "\n",
    "for i, item in enumerate(centers_useful):\n",
    "    min_dist = distance(item, office_coordinates.loc[0])\n",
    "    \n",
    "    for j in range(len(offices)):\n",
    "        dist = distance(item, office_coordinates.loc[j])\n",
    "        \n",
    "        if dist < min_dist:\n",
    "            min_dist = dist\n",
    "            \n",
    "    nearest_office_d[i] = min_dist\n",
    "    \n",
    "    \n",
    "# sorting\n",
    "\n",
    "dist_sorted_inds = np.argsort(nearest_office_d)\n",
    "nearest_office_d_sorted = nearest_office_d[dist_sorted_inds]\n",
    "centers_useful_sorted = centers_useful[dist_sorted_inds]\n",
    "\n",
    "\n",
    "print('Minimal distance:', nearest_office_d_sorted[0])\n",
    "print('The closest center:', centers_useful_sorted[0])"
   ]
  },
  {
   "cell_type": "code",
   "execution_count": 76,
   "metadata": {},
   "outputs": [
    {
     "name": "stdout",
     "output_type": "stream",
     "text": [
      "[-33.86063043 151.20477593]\n",
      "[52.37296399  4.89231722]\n",
      "[ 25.84567226 -80.3188906 ]\n",
      "[51.50299126 -0.12553729]\n",
      "[  33.80987796 -118.14892381]\n",
      "[ 25.78581242 -80.21793804]\n",
      "[ 25.70534972 -80.28342874]\n",
      "[ 26.01009825 -80.19999059]\n",
      "[  33.88832534 -118.04892817]\n",
      "[  33.87298601 -118.36209115]\n",
      "[  33.97257482 -118.16837067]\n",
      "[ 26.13884379 -80.33434684]\n",
      "[  33.98393587 -118.00740497]\n",
      "[ 26.12086266 -80.15890668]\n",
      "[  33.81730643 -117.89124917]\n",
      "[  34.06039755 -118.24870903]\n",
      "[  33.67430266 -117.85878927]\n",
      "[ 26.20058464 -80.25071613]\n",
      "[  34.03548695 -118.43899772]\n",
      "[  34.13146015 -118.11801181]\n"
     ]
    }
   ],
   "source": [
    "for i in range(20):\n",
    "    print(centers_useful_sorted[i])"
   ]
  },
  {
   "cell_type": "markdown",
   "metadata": {},
   "source": [
    "![world_clusters.png](https://raw.githubusercontent.com/Lenferdetroud/ipython-notebooks/master/banner%20location/world_clusters.png)\n",
    "![miami_clusters.png](https://raw.githubusercontent.com/Lenferdetroud/ipython-notebooks/master/banner%20location/miami_clusters.png)\n",
    "![LA_clusters.png](https://raw.githubusercontent.com/Lenferdetroud/ipython-notebooks/master/banner%20location/LA_clusters.png)"
   ]
  },
  {
   "cell_type": "code",
   "execution_count": null,
   "metadata": {},
   "outputs": [],
   "source": []
  }
 ],
 "metadata": {
  "kernelspec": {
   "display_name": "Python 3",
   "language": "python",
   "name": "python3"
  },
  "language_info": {
   "codemirror_mode": {
    "name": "ipython",
    "version": 3
   },
   "file_extension": ".py",
   "mimetype": "text/x-python",
   "name": "python",
   "nbconvert_exporter": "python",
   "pygments_lexer": "ipython3",
   "version": "3.7.6"
  }
 },
 "nbformat": 4,
 "nbformat_minor": 4
}
